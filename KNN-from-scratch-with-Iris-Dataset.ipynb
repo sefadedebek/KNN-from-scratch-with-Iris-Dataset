{
 "cells": [
  {
   "cell_type": "code",
   "execution_count": 614,
   "metadata": {},
   "outputs": [],
   "source": [
    "#Load Iris dataset\n",
    "from sklearn.datasets import load_iris\n",
    "iris= load_iris()"
   ]
  },
  {
   "cell_type": "code",
   "execution_count": 615,
   "metadata": {},
   "outputs": [],
   "source": [
    "import pandas as pd\n",
    "import matplotlib.pyplot as plt\n",
    "import numpy as np"
   ]
  },
  {
   "cell_type": "code",
   "execution_count": 616,
   "metadata": {},
   "outputs": [
    {
     "name": "stdout",
     "output_type": "stream",
     "text": [
      "(150, 4)\n"
     ]
    }
   ],
   "source": [
    "print(iris.data.shape)"
   ]
  },
  {
   "cell_type": "code",
   "execution_count": 617,
   "metadata": {},
   "outputs": [],
   "source": [
    "import pandas as pd\n",
    "from matplotlib import pyplot as plt\n",
    "import sklearn.datasets\n",
    "def get_iris_df():\n",
    " ds = sklearn.datasets.load_iris()\n",
    " df = pd.DataFrame(ds['data'],\n",
    " columns = ds['feature_names'])\n",
    " code_species_map = dict(zip(\n",
    " range(3), ds['target_names']))\n",
    " df['species'] = [code_species_map[c]\n",
    " for c in ds['target']]\n",
    " return df\n",
    "df = get_iris_df()"
   ]
  },
  {
   "cell_type": "code",
   "execution_count": 618,
   "metadata": {},
   "outputs": [
    {
     "data": {
      "text/html": [
       "<div>\n",
       "<style scoped>\n",
       "    .dataframe tbody tr th:only-of-type {\n",
       "        vertical-align: middle;\n",
       "    }\n",
       "\n",
       "    .dataframe tbody tr th {\n",
       "        vertical-align: top;\n",
       "    }\n",
       "\n",
       "    .dataframe thead th {\n",
       "        text-align: right;\n",
       "    }\n",
       "</style>\n",
       "<table border=\"1\" class=\"dataframe\">\n",
       "  <thead>\n",
       "    <tr style=\"text-align: right;\">\n",
       "      <th></th>\n",
       "      <th>sepal length (cm)</th>\n",
       "      <th>sepal width (cm)</th>\n",
       "      <th>petal length (cm)</th>\n",
       "      <th>petal width (cm)</th>\n",
       "      <th>species</th>\n",
       "    </tr>\n",
       "  </thead>\n",
       "  <tbody>\n",
       "    <tr>\n",
       "      <th>0</th>\n",
       "      <td>5.1</td>\n",
       "      <td>3.5</td>\n",
       "      <td>1.4</td>\n",
       "      <td>0.2</td>\n",
       "      <td>setosa</td>\n",
       "    </tr>\n",
       "    <tr>\n",
       "      <th>1</th>\n",
       "      <td>4.9</td>\n",
       "      <td>3.0</td>\n",
       "      <td>1.4</td>\n",
       "      <td>0.2</td>\n",
       "      <td>setosa</td>\n",
       "    </tr>\n",
       "    <tr>\n",
       "      <th>2</th>\n",
       "      <td>4.7</td>\n",
       "      <td>3.2</td>\n",
       "      <td>1.3</td>\n",
       "      <td>0.2</td>\n",
       "      <td>setosa</td>\n",
       "    </tr>\n",
       "    <tr>\n",
       "      <th>3</th>\n",
       "      <td>4.6</td>\n",
       "      <td>3.1</td>\n",
       "      <td>1.5</td>\n",
       "      <td>0.2</td>\n",
       "      <td>setosa</td>\n",
       "    </tr>\n",
       "    <tr>\n",
       "      <th>4</th>\n",
       "      <td>5.0</td>\n",
       "      <td>3.6</td>\n",
       "      <td>1.4</td>\n",
       "      <td>0.2</td>\n",
       "      <td>setosa</td>\n",
       "    </tr>\n",
       "  </tbody>\n",
       "</table>\n",
       "</div>"
      ],
      "text/plain": [
       "   sepal length (cm)  sepal width (cm)  petal length (cm)  petal width (cm)  \\\n",
       "0                5.1               3.5                1.4               0.2   \n",
       "1                4.9               3.0                1.4               0.2   \n",
       "2                4.7               3.2                1.3               0.2   \n",
       "3                4.6               3.1                1.5               0.2   \n",
       "4                5.0               3.6                1.4               0.2   \n",
       "\n",
       "  species  \n",
       "0  setosa  \n",
       "1  setosa  \n",
       "2  setosa  \n",
       "3  setosa  \n",
       "4  setosa  "
      ]
     },
     "execution_count": 618,
     "metadata": {},
     "output_type": "execute_result"
    }
   ],
   "source": [
    "df.head(5)"
   ]
  },
  {
   "cell_type": "code",
   "execution_count": 619,
   "metadata": {},
   "outputs": [
    {
     "data": {
      "text/plain": [
       "species\n",
       "setosa        50\n",
       "versicolor    50\n",
       "virginica     50\n",
       "dtype: int64"
      ]
     },
     "execution_count": 619,
     "metadata": {},
     "output_type": "execute_result"
    }
   ],
   "source": [
    "df.groupby('species').size()"
   ]
  },
  {
   "cell_type": "code",
   "execution_count": 620,
   "metadata": {},
   "outputs": [],
   "source": [
    "# Feature matrix in a object named X\n",
    "X = iris.data\n",
    "# response vector in a object named y\n",
    "y = iris.target"
   ]
  },
  {
   "cell_type": "code",
   "execution_count": 621,
   "metadata": {},
   "outputs": [
    {
     "name": "stdout",
     "output_type": "stream",
     "text": [
      "Train set: (105, 4) (105,)\n",
      "Test set: (45, 4) (45,)\n"
     ]
    }
   ],
   "source": [
    "from sklearn.model_selection import train_test_split\n",
    "X_train,X_test,y_train,y_test = train_test_split(X,y,test_size=0.3,random_state=4)\n",
    "\n",
    "print(\"Train set:\", X_train.shape, y_train.shape)\n",
    "print(\"Test set:\",X_test.shape,y_test.shape)\n",
    " "
   ]
  },
  {
   "cell_type": "code",
   "execution_count": 622,
   "metadata": {},
   "outputs": [],
   "source": [
    "import operator\n",
    "\n",
    "class KNN:\n",
    "    \n",
    "    # This class contains the functions to calculate distances\n",
    "   \n",
    "    def __init__(self,k = 3):\n",
    "        \n",
    "         # KNearestNeighbors constructor\n",
    "         # k: total of neighbors. Default 3\n",
    "        \n",
    "        pass\n",
    "    \n",
    "    def fit(self, X_train, Y_train):\n",
    "        \n",
    "        # Train KNN model with data\n",
    "        # X_train: training data with coordinates\n",
    "        # Y_train: labels of training data set\n",
    "        \n",
    "        assert len(X_train) == len(Y_train)\n",
    "        self.trainData = X_train\n",
    "        self.trainLabels = Y_train\n",
    "    \n",
    "    def euclidean_Distance(self, vector1, vector2):\n",
    "        \n",
    "        #calculate Euclidean Distance\n",
    "        #vector1, vector2 vectors for which the distance is to be calculated\n",
    "        \n",
    "        self.vectorA= vector1\n",
    "        self.vectorB =vector2\n",
    "        if len(self.vectorA) != len(self.vectorB):\n",
    "            raise ValueError(\"Unequal length.\")\n",
    "        distance = 0.0\n",
    "        for i in range(len(self.vectorA)-1):\n",
    "            distance += (self.vectorA[i] - self.vectorB[i])**2\n",
    "        \n",
    "        #Calculated euclidean distance of two vectors\n",
    "        return (distance)**0.5  \n",
    "    \n",
    "    def getNeighbors(self, testRow):\n",
    "       \n",
    "        # Train kNN model with x data\n",
    "        # testRow: testing data with coordinates\n",
    "        \n",
    "        calcDM = KNN()\n",
    "        distances = []\n",
    "        for i, trainRow in enumerate(self.trainData):\n",
    "            distances.append([trainRow, calcDM.euclidean_Distance(testRow, trainRow), self.trainLabels[i]])\n",
    "            distances.sort(key=operator.itemgetter(1))\n",
    "\n",
    "        neighbors = []\n",
    "        for index in range(self.k):\n",
    "            neighbors.append(distances[index])\n",
    "            \n",
    "        #k-nearest neighbors to the test data\n",
    "        return neighbors\n",
    "        \n",
    "    def predict(self, X_test, k):\n",
    "       \n",
    "        # Apply kNN model on test data\n",
    "        # xTest: testing data with coordinates\n",
    "        # k: number of neighbors\n",
    "       \n",
    "        self.testData = X_test\n",
    "        self.k = k\n",
    "        predictions = []\n",
    "        for i, testCase in enumerate(self.testData):\n",
    "            neighbors = self.getNeighbors(testCase)\n",
    "            output= [row[-1] for row in neighbors]\n",
    "            prediction = max(set(output), key=output.count)\n",
    "            predictions.append(prediction)\n",
    "            \n",
    "        # predicted label \n",
    "        return predictions\n",
    "    \n",
    "    def accuracy(self, actual, predictions):\n",
    "        \n",
    "        # calculate the accuracy of predictions\n",
    "        \n",
    "        assert len(actual) == len(predictions)\n",
    "        correct = 0\n",
    "        for i in range(len(actual)):\n",
    "            if actual[i] == predictions[i]:\n",
    "                correct += 1\n",
    "        return(correct / float(len(actual)))\n",
    "   "
   ]
  },
  {
   "cell_type": "code",
   "execution_count": 623,
   "metadata": {
    "scrolled": true
   },
   "outputs": [
    {
     "name": "stdout",
     "output_type": "stream",
     "text": [
      "The accuracy of the train data when k = 1: 1.0\n",
      "The accuracy of the test data when k = 1: 0.9777777777777777\n",
      "\n",
      "The accuracy of the train data when k = 3: 0.9523809523809523\n",
      "The accuracy of the test data when k = 3: 0.9777777777777777\n",
      "\n",
      "The accuracy of the train data when k = 5 0.9333333333333333\n",
      "The accuracy of the test data when k = 5: 0.9555555555555556\n",
      "\n",
      "random k= 52\n",
      "The accuracy of the train data when k = 52 (random) 0.8666666666666667\n",
      "The accuracy of the test data when k = 52 (random) 0.9111111111111111\n"
     ]
    }
   ],
   "source": [
    "#from sklearn.neighbors import KNeighborsClassifier\n",
    "#from sklearn import metrics\n",
    "\n",
    "k=1  #k: number of neighbors\n",
    "knn=KNN()\n",
    "knn.fit(X_train,y_train)\n",
    "print(\"The accuracy of the train data when k = 1:\", knn.accuracy(y_train,knn.predict(X_train, k)))\n",
    "print(\"The accuracy of the test data when k = 1:\", knn.accuracy(y_test,knn.predict(X_test, k)))\n",
    "print()\n",
    "\n",
    "k=3  #k: number of neighbors\n",
    "\n",
    "print(\"The accuracy of the train data when k = 3:\", knn.accuracy(y_train,knn.predict(X_train, k)))\n",
    "print(\"The accuracy of the test data when k = 3:\", knn.accuracy(y_test,knn.predict(X_test, k)))\n",
    "print()\n",
    "\n",
    "k=5  #k: number of neighbors\n",
    "\n",
    "print(\"The accuracy of the train data when k = 5\", knn.accuracy(y_train,knn.predict(X_train, k)))\n",
    "print(\"The accuracy of the test data when k = 5:\", knn.accuracy(y_test,knn.predict(X_test, k)))\n",
    "\n",
    "import random\n",
    "k=random.randint(0,106)\n",
    "print()\n",
    "print(\"random k=\" , k)\n",
    "print(\"The accuracy of the train data when k =\",k,\"(random)\", knn.accuracy(y_train,knn.predict(X_train, k)))\n",
    "print(\"The accuracy of the test data when k =\",k,\"(random)\", knn.accuracy(y_test,knn.predict(X_test, k)))\n"
   ]
  },
  {
   "cell_type": "code",
   "execution_count": 624,
   "metadata": {},
   "outputs": [
    {
     "name": "stdout",
     "output_type": "stream",
     "text": [
      "versicolor\n",
      "virginica\n",
      "setosa\n"
     ]
    }
   ],
   "source": [
    "#0 = setosa, 1=versicolor, 2=virginica\n",
    "classes = {0:'setosa',1:'versicolor',2:'virginica'}\n",
    "\n",
    "#Making prediction on some unseen data \n",
    "#predict for the below two random observations\n",
    "\n",
    "x_new = [[1,4,5,3],\n",
    "         [6,0,7,2],\n",
    "         [1,5,3,4]]\n",
    "y_predict = knn.predict(x_new, k)\n",
    "\n",
    "print(classes[y_predict[0]])\n",
    "print(classes[y_predict[1]])\n",
    "print(classes[y_predict[2]])"
   ]
  },
  {
   "cell_type": "code",
   "execution_count": null,
   "metadata": {},
   "outputs": [],
   "source": []
  }
 ],
 "metadata": {
  "kernelspec": {
   "display_name": "Python 3",
   "language": "python",
   "name": "python3"
  },
  "language_info": {
   "codemirror_mode": {
    "name": "ipython",
    "version": 3
   },
   "file_extension": ".py",
   "mimetype": "text/x-python",
   "name": "python",
   "nbconvert_exporter": "python",
   "pygments_lexer": "ipython3",
   "version": "3.8.3"
  }
 },
 "nbformat": 4,
 "nbformat_minor": 4
}
